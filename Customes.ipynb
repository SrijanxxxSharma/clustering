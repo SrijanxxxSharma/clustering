{
  "nbformat": 4,
  "nbformat_minor": 0,
  "metadata": {
    "colab": {
      "name": "Customes.ipynb",
      "provenance": [],
      "collapsed_sections": [],
      "authorship_tag": "ABX9TyNPrfE8NZSIJaGOS0pYcFJ2",
      "include_colab_link": true
    },
    "kernelspec": {
      "name": "python3",
      "display_name": "Python 3"
    }
  },
  "cells": [
    {
      "cell_type": "markdown",
      "metadata": {
        "id": "view-in-github",
        "colab_type": "text"
      },
      "source": [
        "<a href=\"https://colab.research.google.com/github/SrijanxxxSharma/clustering/blob/main/Customes.ipynb\" target=\"_parent\"><img src=\"https://colab.research.google.com/assets/colab-badge.svg\" alt=\"Open In Colab\"/></a>"
      ]
    },
    {
      "cell_type": "code",
      "metadata": {
        "id": "ykJs3A1cJIWp"
      },
      "source": [
        ""
      ],
      "execution_count": 34,
      "outputs": []
    },
    {
      "cell_type": "markdown",
      "metadata": {
        "id": "6eGYra5curQY"
      },
      "source": [
        "# Clustering \n",
        "In simple words it is grouping of similar kind of data. On the basis of groups we can label the data. This prevents cost of labeling the data by an expert.\n",
        "\n",
        "But clustering is very unpredictable and uncertain as well."
      ]
    },
    {
      "cell_type": "markdown",
      "metadata": {
        "id": "PXDiAWTfv3cH"
      },
      "source": [
        "# Data\n",
        "We are using customer dataset here. Using this dataset we will see types of customers to boost one's business.\n",
        "\n",
        "https://github.com/SrijanxxxSharma/clustering/blob/main/customers.csv"
      ]
    },
    {
      "cell_type": "code",
      "metadata": {
        "colab": {
          "base_uri": "https://localhost:8080/"
        },
        "id": "RqZhxnbJxVMP",
        "outputId": "be0e0fd6-18e7-4d4e-f750-264ad152bdeb"
      },
      "source": [
        "# Lets view our dataset.\n",
        "import pandas as pd\n",
        "url=\"https://raw.githubusercontent.com/SrijanxxxSharma/clustering/main/customers.csv\"\n",
        "dataset = pd.read_csv(url)\n",
        "print(dataset.head())\n",
        "print(dataset.shape)"
      ],
      "execution_count": 35,
      "outputs": [
        {
          "output_type": "stream",
          "text": [
            "   Channel  Region  Fresh  ...  Frozen  Detergents_Paper  Delicatessen\n",
            "0        2       3  12669  ...     214              2674          1338\n",
            "1        2       3   7057  ...    1762              3293          1776\n",
            "2        2       3   6353  ...    2405              3516          7844\n",
            "3        1       3  13265  ...    6404               507          1788\n",
            "4        2       3  22615  ...    3915              1777          5185\n",
            "\n",
            "[5 rows x 8 columns]\n",
            "(440, 8)\n"
          ],
          "name": "stdout"
        }
      ]
    },
    {
      "cell_type": "markdown",
      "metadata": {
        "id": "AjV3Bu4o1cgD"
      },
      "source": [
        "# Preprocessing of columns\n",
        " We are humans and we like to make thing easy. To do that we use preprocessing to scale down our data in range of hundred."
      ]
    },
    {
      "cell_type": "code",
      "metadata": {
        "colab": {
          "base_uri": "https://localhost:8080/",
          "height": 204
        },
        "id": "2oixbx8h2Dtb",
        "outputId": "029fbd33-a79b-4d11-9756-71a5ca5c34c9"
      },
      "source": [
        " import numpy as np\n",
        "\n",
        "# clm=['Fresh','Milk','Grocery','Frozen','Detergents_Paper','Delicatessen']\n",
        "# arr=list()\n",
        "# arr=[dataset[x].values for x in clm]\n",
        "# scale=100\n",
        "# i=0\n",
        "# for feature in arr:\n",
        "#   min=np.min(feature)\n",
        "#   max=np.max(feature)\n",
        "#   new=scale*((feature-min)/(max-min))\n",
        "#   dataset[clm[i]]=new\n",
        "#   i+=1\n",
        "#   del new\n",
        "\n",
        "class Preprocess:\n",
        "  def __init__(self,scale=1):\n",
        "    self.scale=scale\n",
        "    self.min=list()\n",
        "    self.max=list()\n",
        "    self.mean=list()\n",
        "    self.std=list()\n",
        "    self.col_name=None\n",
        "    self.flag=False\n",
        "\n",
        "  def fit(self,dataset,col_name,stand_scaler=False):\n",
        "    self.col_name=col_name\n",
        "    arr=list()\n",
        "    arr=[dataset[x].values for x in col_name]\n",
        "    for feature in arr:\n",
        "      if not stand_scaler:\n",
        "        self.min.append(np.min(feature))\n",
        "        self.max.append(np.max(feature))\n",
        "      else:\n",
        "        self.flag=True\n",
        "        self.mean.append(np.mean(feature))\n",
        "        self.std.append(np.std(feature))\n",
        "\n",
        "  def transform(self,dataset):\n",
        "    arr=list()\n",
        "    arr=[dataset[x].values for x in self.col_name]\n",
        "    if not self.flag:\n",
        "      i=0\n",
        "      for feature in arr:\n",
        "        new=self.scale*((feature-self.min[i])/(self.max[i]-self.min[i]))\n",
        "        dataset[self.col_name[i]]=new\n",
        "        i+=1\n",
        "        del new\n",
        "    else:\n",
        "      i=0\n",
        "      for feature in arr:\n",
        "        new=self.scale*((feature-self.mean[i])/self.std[i])\n",
        "        dataset[self.col_name[i]]=new\n",
        "        i+=1\n",
        "        del new\n",
        "\n",
        "obj=Preprocess(scale=100)\n",
        "obj.fit(dataset,col_name=['Fresh','Milk','Grocery','Frozen','Detergents_Paper','Delicatessen'],stand_scaler=True)\n",
        "obj.transform(dataset)\n",
        "dataset.head()\n"
      ],
      "execution_count": 36,
      "outputs": [
        {
          "output_type": "execute_result",
          "data": {
            "text/html": [
              "<div>\n",
              "<style scoped>\n",
              "    .dataframe tbody tr th:only-of-type {\n",
              "        vertical-align: middle;\n",
              "    }\n",
              "\n",
              "    .dataframe tbody tr th {\n",
              "        vertical-align: top;\n",
              "    }\n",
              "\n",
              "    .dataframe thead th {\n",
              "        text-align: right;\n",
              "    }\n",
              "</style>\n",
              "<table border=\"1\" class=\"dataframe\">\n",
              "  <thead>\n",
              "    <tr style=\"text-align: right;\">\n",
              "      <th></th>\n",
              "      <th>Channel</th>\n",
              "      <th>Region</th>\n",
              "      <th>Fresh</th>\n",
              "      <th>Milk</th>\n",
              "      <th>Grocery</th>\n",
              "      <th>Frozen</th>\n",
              "      <th>Detergents_Paper</th>\n",
              "      <th>Delicatessen</th>\n",
              "    </tr>\n",
              "  </thead>\n",
              "  <tbody>\n",
              "    <tr>\n",
              "      <th>0</th>\n",
              "      <td>2</td>\n",
              "      <td>3</td>\n",
              "      <td>5.293319</td>\n",
              "      <td>52.356777</td>\n",
              "      <td>-4.111489</td>\n",
              "      <td>-58.936716</td>\n",
              "      <td>-4.356873</td>\n",
              "      <td>-6.633906</td>\n",
              "    </tr>\n",
              "    <tr>\n",
              "      <th>1</th>\n",
              "      <td>2</td>\n",
              "      <td>3</td>\n",
              "      <td>-39.130197</td>\n",
              "      <td>54.445767</td>\n",
              "      <td>17.031835</td>\n",
              "      <td>-27.013618</td>\n",
              "      <td>8.640684</td>\n",
              "      <td>8.915105</td>\n",
              "    </tr>\n",
              "    <tr>\n",
              "      <th>2</th>\n",
              "      <td>2</td>\n",
              "      <td>3</td>\n",
              "      <td>-44.702926</td>\n",
              "      <td>40.853771</td>\n",
              "      <td>-2.815710</td>\n",
              "      <td>-13.753572</td>\n",
              "      <td>13.323164</td>\n",
              "      <td>224.329255</td>\n",
              "    </tr>\n",
              "    <tr>\n",
              "      <th>3</th>\n",
              "      <td>1</td>\n",
              "      <td>3</td>\n",
              "      <td>10.011141</td>\n",
              "      <td>-62.401993</td>\n",
              "      <td>-39.297690</td>\n",
              "      <td>68.714430</td>\n",
              "      <td>-49.858822</td>\n",
              "      <td>9.341105</td>\n",
              "    </tr>\n",
              "    <tr>\n",
              "      <th>4</th>\n",
              "      <td>2</td>\n",
              "      <td>3</td>\n",
              "      <td>84.023948</td>\n",
              "      <td>-5.239645</td>\n",
              "      <td>-7.935618</td>\n",
              "      <td>17.385884</td>\n",
              "      <td>-23.191782</td>\n",
              "      <td>129.934689</td>\n",
              "    </tr>\n",
              "  </tbody>\n",
              "</table>\n",
              "</div>"
            ],
            "text/plain": [
              "   Channel  Region      Fresh  ...     Frozen  Detergents_Paper  Delicatessen\n",
              "0        2       3   5.293319  ... -58.936716         -4.356873     -6.633906\n",
              "1        2       3 -39.130197  ... -27.013618          8.640684      8.915105\n",
              "2        2       3 -44.702926  ... -13.753572         13.323164    224.329255\n",
              "3        1       3  10.011141  ...  68.714430        -49.858822      9.341105\n",
              "4        2       3  84.023948  ...  17.385884        -23.191782    129.934689\n",
              "\n",
              "[5 rows x 8 columns]"
            ]
          },
          "metadata": {
            "tags": []
          },
          "execution_count": 36
        }
      ]
    },
    {
      "cell_type": "markdown",
      "metadata": {
        "id": "siYWmVpLziqR"
      },
      "source": [
        "# Visualization \n",
        "Lets see our data in graphs. This gives us some insight of it."
      ]
    },
    {
      "cell_type": "code",
      "metadata": {
        "id": "GGYNTEHw0XJy",
        "colab": {
          "base_uri": "https://localhost:8080/",
          "height": 1000
        },
        "outputId": "4a48bd18-159f-4ea0-ddb8-e7faa29bb342"
      },
      "source": [
        "# Setup for visualization\n",
        "pd.plotting.register_matplotlib_converters()\n",
        "import matplotlib.pyplot as plt\n",
        "import matplotlib.ticker as ticker\n",
        "%matplotlib inline\n",
        "import seaborn as sns\n",
        "\n",
        "plt.figure(figsize=(22,26))\n",
        "\n",
        "x=[n for n in range(0,440)]\n",
        "ax =sns.scatterplot(x=x, y=dataset.Detergents_Paper) # Go ahead and try for more features\n",
        "ax.yaxis.set_major_locator(ticker.MultipleLocator(10))\n",
        "ax.yaxis.set_major_formatter(ticker.ScalarFormatter())"
      ],
      "execution_count": 37,
      "outputs": [
        {
          "output_type": "display_data",
          "data": {
            "image/png": "[encoded data removed]",
            "text/plain": [
              "<Figure size 1584x1872 with 1 Axes>"
            ]
          },
          "metadata": {
            "tags": [],
            "needs_background": "light"
          }
        }
      ]
    },
    {
      "cell_type": "markdown",
      "metadata": {
        "id": "IFU6LHFcr5tW"
      },
      "source": [
        "## All features are quite same a lot spending is not observed \n",
        "## Detergents_Paper shows good market with more spending."
      ]
    },
    {
      "cell_type": "markdown",
      "metadata": {
        "id": "hBj2MPyZPgLJ"
      },
      "source": [
        "# Clustering Algorithms \n",
        "### 1. DBSCAN( Density based spatial clustering of applications with noise)\n",
        "### 2. k-mean\n",
        "### 3. Agglomerative "
      ]
    },
    {
      "cell_type": "markdown",
      "metadata": {
        "id": "uSSB2tGPQ2QK"
      },
      "source": [
        "# DBSCAN\n",
        "DBSCAN is used generally when we don't know about number of clusters a dataset can form.\n",
        "DBSCAN uses two concepts-\n",
        "\n",
        "i) There should be atleast min_samples number of points to call it a cluster.\n",
        "\n",
        "ii) For every point we define a distance(eps) which act as distance till which points are counted, that is, it specifies region.\n",
        "\n",
        "if these conditions are not satisfied then points are declared as noise\n",
        "\n",
        "Random guess for conditions:\n",
        "\n",
        "min_samples=[25,21,18,15,13,10,5]\n",
        "\n",
        "\n",
        "eps=[1,2,3,4,5,6,7,9,10,11,12,13,13,15,16,17]"
      ]
    },
    {
      "cell_type": "code",
      "metadata": {
        "colab": {
          "base_uri": "https://localhost:8080/"
        },
        "id": "3NaPgxclWFry",
        "outputId": "69eacca2-8533-45dc-c9b0-cfc5e485ef9f"
      },
      "source": [
        "from sklearn.cluster import DBSCAN\n",
        "import numpy as np\n",
        "\n",
        "list_min_samples=[25,21,18,15,13,10,5]\n",
        "list_eps=[1,2,3,4,5,6,7,9,10,11,12,13,13,15,16,17]\n",
        "for min_samples in list_min_samples:\n",
        "  print(\"\\nMin Samples:{}\".format(min_samples))\n",
        "  for eps in list_eps: \n",
        "    print(\"\\neps:{}\".format(eps))\n",
        "    model=DBSCAN(eps=eps, min_samples=min_samples)\n",
        "    clusters=model.fit_predict(dataset)\n",
        "    if len(np.unique(clusters))>=3 and len(np.unique(clusters))<=5: \n",
        "      print(\"\\neps:{}\".format(eps))\n",
        "      print(\"Unique Members:\\n{}\".format(np.unique(clusters)))\n",
        "      print(\"Data points under each members:\\n{}\".format(np.bincount(clusters+1)))\n",
        "\n",
        "\n",
        "# we were unable to get a result from dbscan as it clusters data as a group only. If we try to make more groups we observe lot of noise"
      ],
      "execution_count": 38,
      "outputs": [
        {
          "output_type": "stream",
          "text": [
            "\n",
            "Min Samples:25\n",
            "\n",
            "eps:1\n",
            "\n",
            "eps:2\n",
            "\n",
            "eps:3\n",
            "\n",
            "eps:4\n",
            "\n",
            "eps:5\n",
            "\n",
            "eps:6\n",
            "\n",
            "eps:7\n",
            "\n",
            "eps:9\n",
            "\n",
            "eps:10\n",
            "\n",
            "eps:11\n",
            "\n",
            "eps:12\n",
            "\n",
            "eps:13\n",
            "\n",
            "eps:13\n",
            "\n",
            "eps:15\n",
            "\n",
            "eps:16\n",
            "\n",
            "eps:17\n",
            "\n",
            "Min Samples:21\n",
            "\n",
            "eps:1\n",
            "\n",
            "eps:2\n",
            "\n",
            "eps:3\n",
            "\n",
            "eps:4\n",
            "\n",
            "eps:5\n",
            "\n",
            "eps:6\n",
            "\n",
            "eps:7\n",
            "\n",
            "eps:9\n",
            "\n",
            "eps:10\n",
            "\n",
            "eps:11\n",
            "\n",
            "eps:12\n",
            "\n",
            "eps:13\n",
            "\n",
            "eps:13\n",
            "\n",
            "eps:15\n",
            "\n",
            "eps:16\n",
            "\n",
            "eps:17\n",
            "\n",
            "Min Samples:18\n",
            "\n",
            "eps:1\n",
            "\n",
            "eps:2\n",
            "\n",
            "eps:3\n",
            "\n",
            "eps:4\n",
            "\n",
            "eps:5\n",
            "\n",
            "eps:6\n",
            "\n",
            "eps:7\n",
            "\n",
            "eps:9\n",
            "\n",
            "eps:10\n",
            "\n",
            "eps:11\n",
            "\n",
            "eps:12\n",
            "\n",
            "eps:13\n",
            "\n",
            "eps:13\n",
            "\n",
            "eps:15\n",
            "\n",
            "eps:16\n",
            "\n",
            "eps:17\n",
            "\n",
            "Min Samples:15\n",
            "\n",
            "eps:1\n",
            "\n",
            "eps:2\n",
            "\n",
            "eps:3\n",
            "\n",
            "eps:4\n",
            "\n",
            "eps:5\n",
            "\n",
            "eps:6\n",
            "\n",
            "eps:7\n",
            "\n",
            "eps:9\n",
            "\n",
            "eps:10\n",
            "\n",
            "eps:11\n",
            "\n",
            "eps:12\n",
            "\n",
            "eps:13\n",
            "\n",
            "eps:13\n",
            "\n",
            "eps:15\n",
            "\n",
            "eps:16\n",
            "\n",
            "eps:17\n",
            "\n",
            "Min Samples:13\n",
            "\n",
            "eps:1\n",
            "\n",
            "eps:2\n",
            "\n",
            "eps:3\n",
            "\n",
            "eps:4\n",
            "\n",
            "eps:5\n",
            "\n",
            "eps:6\n",
            "\n",
            "eps:7\n",
            "\n",
            "eps:9\n",
            "\n",
            "eps:10\n",
            "\n",
            "eps:11\n",
            "\n",
            "eps:12\n",
            "\n",
            "eps:13\n",
            "\n",
            "eps:13\n",
            "\n",
            "eps:15\n",
            "\n",
            "eps:16\n",
            "\n",
            "eps:17\n",
            "\n",
            "Min Samples:10\n",
            "\n",
            "eps:1\n",
            "\n",
            "eps:2\n",
            "\n",
            "eps:3\n",
            "\n",
            "eps:4\n",
            "\n",
            "eps:5\n",
            "\n",
            "eps:6\n",
            "\n",
            "eps:7\n",
            "\n",
            "eps:9\n",
            "\n",
            "eps:10\n",
            "\n",
            "eps:11\n",
            "\n",
            "eps:12\n",
            "\n",
            "eps:13\n",
            "\n",
            "eps:13\n",
            "\n",
            "eps:15\n",
            "\n",
            "eps:16\n",
            "\n",
            "eps:17\n",
            "\n",
            "Min Samples:5\n",
            "\n",
            "eps:1\n",
            "\n",
            "eps:2\n",
            "\n",
            "eps:3\n",
            "\n",
            "eps:4\n",
            "\n",
            "eps:5\n",
            "\n",
            "eps:6\n",
            "\n",
            "eps:7\n",
            "\n",
            "eps:9\n",
            "\n",
            "eps:10\n",
            "\n",
            "eps:11\n",
            "\n",
            "eps:12\n",
            "\n",
            "eps:13\n",
            "\n",
            "eps:13\n",
            "\n",
            "eps:15\n",
            "\n",
            "eps:16\n",
            "\n",
            "eps:16\n",
            "Unique Members:\n",
            "[-1  0  1]\n",
            "Data points under each members:\n",
            "[427   7   6]\n",
            "\n",
            "eps:17\n",
            "\n",
            "eps:17\n",
            "Unique Members:\n",
            "[-1  0  1]\n",
            "Data points under each members:\n",
            "[425   8   7]\n"
          ],
          "name": "stdout"
        }
      ]
    },
    {
      "cell_type": "markdown",
      "metadata": {
        "id": "YCAecrTYg9Qf"
      },
      "source": [
        "# K-Mean\n",
        "K-mean starts with fixed numbers of clusters. It randomly decides cluster centers initially and then according to distance from each points it decides cluster centers for them. This continues till we have exactly same clusters."
      ]
    },
    {
      "cell_type": "code",
      "metadata": {
        "colab": {
          "base_uri": "https://localhost:8080/"
        },
        "id": "Ojhegdw0ij7u",
        "outputId": "73b08578-cfe7-4837-a205-46efe9d4bc68"
      },
      "source": [
        "from sklearn.cluster import KMeans\n",
        "import numpy as np\n",
        "\n",
        "samples=list()\n",
        "clusters=[2,3,4]\n",
        "for cluster in clusters:\n",
        "  model=KMeans(n_clusters=cluster)\n",
        "  model.fit(dataset)\n",
        "  samples.append(model.labels_)\n",
        "i=0\n",
        "for sample in samples:\n",
        "  i+=1\n",
        "  print(\"for sample {}\".format(i))\n",
        "  print(\"Members in each classes:\\n{}\".format(np.bincount(sample)))\n",
        "\n",
        "# Same is shown by kmeans as it give more data points to one class than others"
      ],
      "execution_count": 39,
      "outputs": [
        {
          "output_type": "stream",
          "text": [
            "for sample 1\n",
            "Members in each classes:\n",
            "[ 53 387]\n",
            "for sample 2\n",
            "Members in each classes:\n",
            "[109 318  13]\n",
            "for sample 3\n",
            "Members in each classes:\n",
            "[  2 110  12 316]\n"
          ],
          "name": "stdout"
        }
      ]
    },
    {
      "cell_type": "markdown",
      "metadata": {
        "id": "poOcW4HGmS_s"
      },
      "source": [
        "# Agglomerative\n",
        "It is hierarchical clustering and merges two closest groups together until all points gets a group.\n"
      ]
    },
    {
      "cell_type": "code",
      "metadata": {
        "colab": {
          "base_uri": "https://localhost:8080/"
        },
        "id": "1aisER5Kps9H",
        "outputId": "162471f2-4412-496d-efdf-fbb80cb9f509"
      },
      "source": [
        "from sklearn.cluster import AgglomerativeClustering\n",
        "import numpy as np\n",
        "\n",
        "samples=list()\n",
        "clusters=[2,3,4]\n",
        "for cluster in clusters:\n",
        "  model=AgglomerativeClustering(n_clusters=cluster)\n",
        "  samples.append(model.fit_predict(dataset))\n",
        "i=0\n",
        "for sample in samples:\n",
        "  i+=1\n",
        "  print(\"for sample {}\".format(i))\n",
        "  print(\"Members in each classes:\\n{}\".format(np.bincount(sample)))\n",
        "\n",
        "# Same is shown by Agglomerative as it gives more data points to one class than others.\n"
      ],
      "execution_count": 40,
      "outputs": [
        {
          "output_type": "stream",
          "text": [
            "for sample 1\n",
            "Members in each classes:\n",
            "[434   6]\n",
            "for sample 2\n",
            "Members in each classes:\n",
            "[  6 281 153]\n",
            "for sample 3\n",
            "Members in each classes:\n",
            "[281   5 153   1]\n"
          ],
          "name": "stdout"
        }
      ]
    },
    {
      "cell_type": "markdown",
      "metadata": {
        "id": "kxzlg9b3uAue"
      },
      "source": [
        "# Conclusion\n",
        "On the basis of DBSCAN, dataset shows the customes are of similar type as they show one cluster only.That is most members spend less money(shown via visualization)."
      ]
    }
  ]
}